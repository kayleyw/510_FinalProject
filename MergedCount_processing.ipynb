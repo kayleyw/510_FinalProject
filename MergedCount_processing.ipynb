{
 "cells": [
  {
   "cell_type": "code",
   "execution_count": 33,
   "metadata": {},
   "outputs": [],
   "source": [
    "import pandas as pd\n",
    "\n",
    "\n",
    "table = pd.read_csv('Merged_RNASeq_20201029-190143/Merged_Counts.tsv',sep='\\t')\n",
    "table.columns = list(table.columns)[:2] + [i[:12] for i in list(table.columns)[2:]]\n",
    "count_table = table.drop(table.index[60483:60488])\n",
    "count_table = count_table.drop(columns='gene_name')\n",
    "count_table.to_csv('count_processed.txt',sep='\\t',index=False)"
   ]
  },
  {
   "cell_type": "code",
   "execution_count": null,
   "metadata": {},
   "outputs": [],
   "source": []
  },
  {
   "cell_type": "code",
   "execution_count": 44,
   "metadata": {},
   "outputs": [],
   "source": [
    "clinical = pd.read_csv('clinical.cart.2020-10-29/clinical.tsv',sep='\\t')\n",
    "clinical_subset = clinical.loc[:,['case_submitter_id','age_at_index','ethnicity','gender','race','age_at_diagnosis','ajcc_pathologic_stage']]\n",
    "clinical_subset = clinical_subset.replace(\"'--\",'')\n",
    "clinical_subset.to_csv('clinical_processed.txt', sep='\\t', index = False)"
   ]
  },
  {
   "cell_type": "code",
   "execution_count": 45,
   "metadata": {},
   "outputs": [],
   "source": [
    "exposure = pd.read_csv('clinical.cart.2020-10-29/exposure.tsv',sep='\\t')\n",
    "exposure_subset = exposure.loc[:,['case_submitter_id','cigarettes_per_day','pack_years_smoked','years_smoked']]\n",
    "exposure_subset = exposure_subset.replace(\"'--\",'')\n",
    "exposure_subset.to_csv('exposure_processed.txt', sep='\\t', index = False)"
   ]
  }
 ],
 "metadata": {
  "kernelspec": {
   "display_name": "Python 3",
   "language": "python",
   "name": "python3"
  },
  "language_info": {
   "codemirror_mode": {
    "name": "ipython",
    "version": 3
   },
   "file_extension": ".py",
   "mimetype": "text/x-python",
   "name": "python",
   "nbconvert_exporter": "python",
   "pygments_lexer": "ipython3",
   "version": "3.8.3"
  }
 },
 "nbformat": 4,
 "nbformat_minor": 4
}
